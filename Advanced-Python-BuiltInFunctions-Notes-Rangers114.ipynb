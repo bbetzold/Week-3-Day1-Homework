{
 "cells": [
  {
   "cell_type": "markdown",
   "metadata": {},
   "source": [
    "# Map, Filter, Reduce, Lambda & Recursion"
   ]
  },
  {
   "cell_type": "markdown",
   "metadata": {},
   "source": [
    "## Tasks Today:\n",
    "\n",
    "1) <b>Lambda Functions</b> <br>\n",
    " &nbsp;&nbsp;&nbsp;&nbsp; a) Syntax <br>\n",
    " &nbsp;&nbsp;&nbsp;&nbsp; b) Saving to a Variable <br>\n",
    " &nbsp;&nbsp;&nbsp;&nbsp; c) Multiple Inputs <br>\n",
    " &nbsp;&nbsp;&nbsp;&nbsp; d) Passing a Lambda into a Function <br>\n",
    " &nbsp;&nbsp;&nbsp;&nbsp; e) Returning a Lambda from a Function <br>\n",
    " &nbsp;&nbsp;&nbsp;&nbsp; f) In-Class Exercise #1 <br>\n",
    "2) <b>Map</b> <br>\n",
    " &nbsp;&nbsp;&nbsp;&nbsp; a) Syntax <br>\n",
    " &nbsp;&nbsp;&nbsp;&nbsp; b) Using Lambda's with Map <br>\n",
    " &nbsp;&nbsp;&nbsp;&nbsp; c) In-Class Exercise #2 <br>\n",
    "3) <b>Filter</b> <br>\n",
    " &nbsp;&nbsp;&nbsp;&nbsp; a) Syntax <br>\n",
    " &nbsp;&nbsp;&nbsp;&nbsp; b) Using Lambda's with Filter <br>\n",
    " &nbsp;&nbsp;&nbsp;&nbsp; c) In-Class Exercise #3 <br>\n",
    "4) <b>Reduce</b> <br>\n",
    " &nbsp;&nbsp;&nbsp;&nbsp; a) Syntax <br>\n",
    " &nbsp;&nbsp;&nbsp;&nbsp; b) Using Lambda's with Reduce <br>\n",
    " &nbsp;&nbsp;&nbsp;&nbsp; c) In-Class Exercise #4 <br>\n",
    "5) <b>Generators & Iterators</b> <br>\n",
    " &nbsp;&nbsp;&nbsp;&nbsp; a) Yield Keyword <br>\n",
    " &nbsp;&nbsp;&nbsp;&nbsp; b) Inifinite Generator <br>\n",
    " &nbsp;&nbsp;&nbsp;&nbsp; c) In-Class Exercise #6 <br>\n",
    "6) <b>Exercises</b> <br>\n",
    " &nbsp;&nbsp;&nbsp;&nbsp; a) Exercise #1 - Filtering Empty Strings <br>\n",
    " &nbsp;&nbsp;&nbsp;&nbsp; b) Exercise #2 - Sorting with Last Name <br>\n",
    " &nbsp;&nbsp;&nbsp;&nbsp; c) Exercise #3 - Conversion to Farhenheit <br>\n",
    " &nbsp;&nbsp;&nbsp;&nbsp; d) Exercise #4 - Fibonacci Sequence <br>"
   ]
  },
  {
   "cell_type": "markdown",
   "metadata": {},
   "source": [
    "## Lambda Functions <br>\n",
    "<p>Lambda functions... or \"Anonymous Functions\" are referring to inline functions with no name. The keyword lambda denotes the no name function, and executes within a single line. Without saving it to a variable; however, it is not able to be used, unless passed in either as a paramater or within list comprehension.<br>Written as \"(keyword lambda) (one or more inputs) (colon) (function to be executed)\"</p>"
   ]
  },
  {
   "cell_type": "markdown",
   "metadata": {},
   "source": [
    "#### Syntax"
   ]
  },
  {
   "cell_type": "code",
   "execution_count": null,
   "metadata": {},
   "outputs": [],
   "source": [
    "# Lambda x: x + 10\n",
    "# regular named function\n",
    "def add_ten(x):\n",
    "    return x + 10\n",
    "print(add_ten(4))\n",
    "\n",
    "#Lambda with variable\n",
    "add_something = lambda x: x + 6\n",
    "print(add_something(7))\n",
    "\n",
    "#calling Lambda without variable\n",
    "print((lambda y:y*4)(8))"
   ]
  },
  {
   "cell_type": "markdown",
   "metadata": {},
   "source": [
    "#### Saving to a Variable"
   ]
  },
  {
   "cell_type": "code",
   "execution_count": null,
   "metadata": {},
   "outputs": [],
   "source": [
    "x = lambda a: a * 10\n",
    "print(x(10))\n",
    "\n",
    "y = lambda name: print(name)\n",
    "y('Boba Fett')\n",
    "\n",
    "z = lambda num: int (num) + 80\n",
    "print(z('40'))\n",
    "\n",
    "# print(z)\n",
    "# print(x)"
   ]
  },
  {
   "cell_type": "markdown",
   "metadata": {},
   "source": [
    "#### Multiple Inputs"
   ]
  },
  {
   "cell_type": "code",
   "execution_count": null,
   "metadata": {},
   "outputs": [],
   "source": [
    "# multiple inputs with no variable\n",
    "print((lambda x, y, z: x*y*z)(3, 5, 8))\n",
    "\n",
    "# multiple inputs with a variable name\n",
    "x_test = lambda x, y, z: x * y + z\n",
    "\n",
    "print(x_test(5, 8, 23))\n",
    "\n",
    "string_test = lambda adjective, verb, noun=\"sidewalk\": f\"It is a {adjective} {noun} and I {verb} to the store.\"\n",
    "\n",
    "print(string_test('tasty', 'roll'))"
   ]
  },
  {
   "cell_type": "markdown",
   "metadata": {},
   "source": [
    "#### Passing a Lambda into a Function"
   ]
  },
  {
   "cell_type": "code",
   "execution_count": null,
   "metadata": {},
   "outputs": [],
   "source": [
    "def multiply (f,num):\n",
    "    \"\"\"\n",
    "    f expects a lambda function\n",
    "    num expects a number\n",
    "    \n",
    "    \"\"\"\n",
    "    \n",
    "    return f(num)\n",
    "\n",
    "print(multiply(lambda x: x*4,6))\n",
    "\n",
    "def multiply2(num):\n",
    "    f = lambda x: x * 4\n",
    "    return f(num)\n",
    "print(multiply2(7))"
   ]
  },
  {
   "cell_type": "markdown",
   "metadata": {},
   "source": [
    "#### Returning a Lambda from a Function"
   ]
  },
  {
   "cell_type": "code",
   "execution_count": null,
   "metadata": {},
   "outputs": [],
   "source": [
    "# regular defined function\n",
    "def multiply_test(num):\n",
    "    return num * 4\n",
    "\n",
    "# function within a function\n",
    "def returnFunc():\n",
    "    test = 4\n",
    "    def multiply(num):\n",
    "        return num * test\n",
    "    return multiply\n",
    "\n",
    "func_return = returnFunc()\n",
    "print(func_return(8))\n",
    "\n",
    "#Lambda function returned from regular function\n",
    "def return_lamb(b, c):\n",
    "    return lambda x, a: x + a + b + c\n",
    "\n",
    "r_lamb = return_lamb(4, 5)\n",
    "print(r_lamb)\n",
    "\n",
    "print(return_lamb(4,5))\n",
    "\n",
    "print(return_lamb(4,5)(7, 8))\n",
    "\n",
    "print(r_lamb(7,8))\n",
    "\n",
    "print(r_lamb(9,10))\n",
    "\n",
    "\n"
   ]
  },
  {
   "cell_type": "markdown",
   "metadata": {},
   "source": [
    "#### If Statements within Lambdas"
   ]
  },
  {
   "cell_type": "code",
   "execution_count": null,
   "metadata": {},
   "outputs": [],
   "source": [
    "# Lambda x: True if (condition) else False\n",
    "\n",
    "is_there_power = lambda arr: \"Outage\" if arr.count('F') >= 2 else \"Power\"\n",
    "\n",
    "list_power = ['T', 'F', 'F', 'F']\n",
    "\n",
    "print(is_there_power(list_power))\n",
    "\n",
    "true_power = lambda arr: False if arr.count('F') >= 2 else True\n",
    "\n",
    "print(true_power(list_power))\n",
    "\n",
    "true_list = [True if x ==\"T\" else False for x in list_power]\n",
    "\n",
    "print(true_list)\n",
    "\n",
    "f_condition = lambda num: num * 2 if num > 10 else num + 2\n",
    "\n",
    "print(f_condition(8))\n",
    "\n",
    "print(f_condition(10))\n",
    "\n",
    "print(f_condition(12))"
   ]
  },
  {
   "cell_type": "markdown",
   "metadata": {},
   "source": [
    "#### In-Class Exercise #1 <br>\n",
    "<p>Write an anonymous function that cubes the arguments passed in  if they are less than 15, otherwise square them.  Assign the anonymous function to a variable 'f'.</p>"
   ]
  },
  {
   "cell_type": "code",
   "execution_count": null,
   "metadata": {},
   "outputs": [],
   "source": [
    "```anonymous_function = lambda num: num**3 if num < 15 else num**2\n",
    "\n",
    "x = anonymous_function\n",
    "\n",
    "y = lambda a, b: a*b\n",
    "\n",
    "print(x(5))\n",
    "\n",
    "print(x(20))\n",
    "\n",
    "print(x(y(2,5)))```\n"
   ]
  },
  {
   "cell_type": "markdown",
   "metadata": {},
   "source": [
    "## Map <br>\n",
    "<p>The map function allows you to iterate over an entire list while running a function on each item of the list. This is why the map function works well with lambda's, because it simplifies things and you write less lines of code.<br>The syntax for a map function is \"map(function to be used, list to be used)\"<br>However, you must be careful, as the map function returns a map object, not a list. To turn it into a list we use the list() type conversion.</p>"
   ]
  },
  {
   "cell_type": "markdown",
   "metadata": {},
   "source": [
    "#### Syntax"
   ]
  },
  {
   "cell_type": "code",
   "execution_count": null,
   "metadata": {},
   "outputs": [],
   "source": [
    "# map(function(iterable<list, dict, tuple, set))\n",
    "# can use with regular named functions but Lambdas work nicely as well\n",
    "def square_nums(num):\n",
    "    return num ** 2\n",
    "\n",
    "arr = [2, 30, 4, 15, 6, 17]\n",
    "\n",
    "squared_list = []\n",
    "for x in arr:\n",
    "    squared_list.append(square_nums(x))\n",
    "print(squared_list)\n",
    "\n",
    "def squared(num):\n",
    "    if num < 10:\n",
    "        return num**2\n",
    "    else:\n",
    "        return num\n",
    "\n",
    "squared_nums_map = list(map(squared, arr))\n",
    "\n",
    "print(squared_nums_map)\n",
    "    "
   ]
  },
  {
   "cell_type": "code",
   "execution_count": null,
   "metadata": {},
   "outputs": [],
   "source": [
    "# map operation is limited by the shortest iterable\n",
    "\n",
    "arr = [2, 30, 4, 15, 6, 17]\n",
    "arr2 =[7, 10, 4, 16, 87, 91]\n",
    "\n",
    "def squared2 (num, num2):\n",
    "    if num < 10 and num2 < 10:\n",
    "        return num ** 2, num2 ** 2\n",
    "    else:\n",
    "        return num, num2\n",
    "    \n",
    "squared_nums_map = list(map(squared2, arr, arr2))\n",
    "print(squared_nums_map)"
   ]
  },
  {
   "cell_type": "markdown",
   "metadata": {},
   "source": [
    "#### Using Lambda's with Map"
   ]
  },
  {
   "cell_type": "code",
   "execution_count": null,
   "metadata": {},
   "outputs": [],
   "source": [
    "#map (Lambda x: x+2, iterable)\n",
    "#using lambda in map happens in one line...usually\n",
    "arr = [2, 30, 4, 15, 6, 17]\n",
    "arr2 =[7, 10, 4, 16, 87, 91]\n",
    "\n",
    "squared_nums_lamb = list(map(lambda x, y: (x**2, y**2) if x < 10 and y < 10 else (x,y), arr, arr2))\n",
    "print(squared_nums_lamb)\n",
    "\n"
   ]
  },
  {
   "cell_type": "markdown",
   "metadata": {},
   "source": [
    "#### In-Class Exercise #2 <br>\n",
    "<p>Use the map function to double each number and minus it by one in the list by using a lambda function</p>"
   ]
  },
  {
   "cell_type": "code",
   "execution_count": null,
   "metadata": {},
   "outputs": [],
   "source": [
    "arr = [2, 30, 4, 15, 6, 17]\n",
    "\n",
    "# y = lambda x: x*2 - 1\n",
    "math_double_substractOne = list(map(lambda x: x*2 - 1, arr))\n",
    "print(math_double_substractOne)"
   ]
  },
  {
   "cell_type": "markdown",
   "metadata": {},
   "source": [
    "## Filter() <br>\n",
    "<p>Filter's are similar to the map function, where you're able to pass a function argument and a list argument and filter out something from the list based on the conditions passed. Similar to the map function, it returns a filter object, so you need to type convert it to a list()</p>"
   ]
  },
  {
   "cell_type": "markdown",
   "metadata": {},
   "source": [
    "#### Syntax"
   ]
  },
  {
   "cell_type": "code",
   "execution_count": null,
   "metadata": {},
   "outputs": [],
   "source": [
    "names = ['Bob', 'Andrew', 'Max', 'Evan', 'Angelica']\n",
    "def a_names(name):\n",
    "    if name[0].lower() == 'a':\n",
    "        return True\n",
    "    else:\n",
    "        return False\n",
    "new_names_list = list(filter(a_names, names))\n",
    "print(new_names_list)\n",
    "\n",
    "# numbers = [1,2,3,4,5,6,7,8,9,10]\n",
    "\n",
    "# def even_nums(number):\n",
    "#     if number % 2 == 0:\n",
    "#         return True\n",
    "#     else:\n",
    "#         return False\n",
    "\n",
    "# even_numbers = list(filter(even_nums, numbers))\n",
    "# print(even_numbers)"
   ]
  },
  {
   "cell_type": "markdown",
   "metadata": {},
   "source": [
    "#### Using Lambda's with Filter()"
   ]
  },
  {
   "cell_type": "code",
   "execution_count": null,
   "metadata": {},
   "outputs": [],
   "source": [
    "names = ['Bob', 'Andrew', 'Max', 'Evan', 'Angelica']\n",
    "\n",
    "a_names_list = list(filter(lambda name: True if name[0].lower() == 'a' else False, names))\n",
    "print(a_names_list)\n",
    "\n",
    "numbers = [1,2,3,4,5,6,7,8,9,10]\n",
    "even_numbers = list(filter(lambda num: True if num % 2 == 0 else False, numbers))\n",
    "print(even_numbers)\n"
   ]
  },
  {
   "cell_type": "markdown",
   "metadata": {},
   "source": [
    "#### In-Class Exercise #3 <br>\n",
    "<p>Filter out all the numbers that are below the mean of the list.<br><b>Hint: Import the 'statistics' module</b></p>"
   ]
  },
  {
   "cell_type": "code",
   "execution_count": null,
   "metadata": {},
   "outputs": [],
   "source": [
    "from statistics import mean\n",
    "\n",
    "nums = [2, 7, 4.2, 1.6, 9, 4.4, 5.9]\n",
    "# print(mean(nums))\n",
    "\n",
    "min_means = list(filter(lambda num: True if num < mean(nums) else False, nums))\n",
    "print(min_means)\n",
    "\n",
    "\n",
    "# print(mean(nums))\n",
    "# print(list(filter(lambda num: num if num < mean(nums) else False, nums)))\n"
   ]
  },
  {
   "cell_type": "markdown",
   "metadata": {},
   "source": [
    "## Reduce() <br>\n",
    "<p>Be very careful when using this function, as of Python 3 it's been moved to the 'functools' library and no longer is a built-in function.<br>The creator of Python himself, says to just use a for loop instead.</p>"
   ]
  },
  {
   "cell_type": "markdown",
   "metadata": {},
   "source": [
    "#### Syntax"
   ]
  },
  {
   "cell_type": "code",
   "execution_count": null,
   "metadata": {},
   "outputs": [],
   "source": [
    "from functools import reduce\n",
    "#reduce(function, iterable)\n",
    "list_1 = [2, 4, 6, 8, 10]\n",
    "\n",
    "def add_nums(num1, num2):\n",
    "    return num1 + num2\n",
    "\n",
    "result_add = reduce(add_nums, list_1)\n",
    "print(result_add)\n",
    "\n",
    "#subtract a list of numbers\n",
    "def subtract_nums(num1, num2):\n",
    "    return num1 - num2\n",
    "result_sub = reduce(subtract_nums, list_1)\n",
    "print(result_sub)"
   ]
  },
  {
   "cell_type": "markdown",
   "metadata": {},
   "source": [
    "#### Using Lambda's with Reduce()"
   ]
  },
  {
   "cell_type": "code",
   "execution_count": null,
   "metadata": {},
   "outputs": [],
   "source": [
    "result_lamb = reduce(lambda x, y: x + y, list_1, 10)\n",
    "print(result_lamb)"
   ]
  },
  {
   "cell_type": "markdown",
   "metadata": {},
   "source": [
    "#### In-Class Exercise #4 <br>\n",
    "<p>Use the reduce function to multiply the numbers in the list below together with a lambda function.</p>"
   ]
  },
  {
   "cell_type": "code",
   "execution_count": null,
   "metadata": {},
   "outputs": [],
   "source": [
    "list_1 = [2, 4, 6, 8, 10]"
   ]
  },
  {
   "cell_type": "code",
   "execution_count": null,
   "metadata": {},
   "outputs": [],
   "source": [
    "list_1 = [2, 4, 6, 8, 10]\n",
    "from functools import reduce\n",
    "multiply_lamb = reduce(lambda x, y: x*y, list_1)\n",
    "print(multiply_lamb)"
   ]
  },
  {
   "cell_type": "markdown",
   "metadata": {},
   "source": [
    "## Recursion <br>\n",
    "<p>Recursion means that a function is calling itself, so it contanstly executes until a base case is reached. It will then push the returning values back up the chain until the function is complete. A prime example of recursion is computing factorials... such that 5! (factorial) is 5*4*3*2*1 which equals 120.</p>"
   ]
  },
  {
   "cell_type": "markdown",
   "metadata": {},
   "source": [
    "#### Implementing a Base Case"
   ]
  },
  {
   "cell_type": "code",
   "execution_count": null,
   "metadata": {},
   "outputs": [],
   "source": []
  },
  {
   "cell_type": "markdown",
   "metadata": {},
   "source": [
    "#### Writing a Factorial Function"
   ]
  },
  {
   "cell_type": "code",
   "execution_count": null,
   "metadata": {},
   "outputs": [],
   "source": []
  },
  {
   "cell_type": "markdown",
   "metadata": {},
   "source": [
    "#### In-Class Exercise #5 <br>\n",
    "<p>Write a recursive function that subtracts all numbers to the argument given.</p>"
   ]
  },
  {
   "cell_type": "code",
   "execution_count": null,
   "metadata": {},
   "outputs": [],
   "source": []
  },
  {
   "cell_type": "markdown",
   "metadata": {},
   "source": [
    "## Generators <br>\n",
    "<p>Generators are a type of iterable, like lists or tuples. They do not allow indexing, but they can still be iterated through with for loops. They are created using functions and the yield statement.</p>"
   ]
  },
  {
   "cell_type": "markdown",
   "metadata": {},
   "source": [
    "#### Yield Keyword <br>\n",
    "<p>The yield keyword denotes a generator, it doesn't return so it won't leave the function and reset all variables in the function scope, instead it yields the number back to the caller.</p>"
   ]
  },
  {
   "cell_type": "code",
   "execution_count": null,
   "metadata": {
    "scrolled": true
   },
   "outputs": [],
   "source": [
    "def my_range(stop, start, step = 2):\n",
    "    while start < stop:\n",
    "        yield start #yield keyword there be a generator\n",
    "        start += step\n",
    "\n",
    "for i in my_range(20, start =2):\n",
    "    my_generator_value = i\n",
    "    print(my_generator_value)"
   ]
  },
  {
   "cell_type": "markdown",
   "metadata": {},
   "source": [
    "#### next() keyword\n",
    "<p>Returns next element from the list, if not present prints the default value. If default value is not present, raises the StopIteration error.</p>"
   ]
  },
  {
   "cell_type": "code",
   "execution_count": null,
   "metadata": {},
   "outputs": [],
   "source": [
    "def my_range(stop, start, step = 2):\n",
    "    while start < stop:\n",
    "        yield start #yield keyword there be a generator\n",
    "        start += step"
   ]
  },
  {
   "cell_type": "markdown",
   "metadata": {},
   "source": [
    "#### Creating a Generator Object\n",
    "<p>The generator object will store an iterable on which we can call the next() method.</p>"
   ]
  },
  {
   "cell_type": "code",
   "execution_count": null,
   "metadata": {},
   "outputs": [],
   "source": [
    "generator_object = my_range(20, start = 2)"
   ]
  },
  {
   "cell_type": "code",
   "execution_count": null,
   "metadata": {},
   "outputs": [],
   "source": [
    "# next keyword will iterate through our generator object an yield and new value each team\n",
    "next(generator_object)"
   ]
  },
  {
   "cell_type": "markdown",
   "metadata": {},
   "source": [
    "<p>Use try and except to print graceful message instead of the StopIteration error:"
   ]
  },
  {
   "cell_type": "code",
   "execution_count": null,
   "metadata": {},
   "outputs": [],
   "source": [
    "try:\n",
    "    if next(generator_object)== 12:\n",
    "        print(\"Super Duper\")\n",
    "    else:\n",
    "        print(\"That's okay\")\n",
    "except:\n",
    "    print(\"You're out of range\")"
   ]
  },
  {
   "cell_type": "code",
   "execution_count": null,
   "metadata": {},
   "outputs": [],
   "source": []
  },
  {
   "cell_type": "code",
   "execution_count": null,
   "metadata": {},
   "outputs": [],
   "source": []
  },
  {
   "cell_type": "markdown",
   "metadata": {},
   "source": [
    "#### In-Class Exercise #6 <br>\n",
    "<p>Create a generator that takes a number argument and yields that number squared, then prints each number squared until zero is reached.</p>"
   ]
  },
  {
   "cell_type": "code",
   "execution_count": null,
   "metadata": {},
   "outputs": [],
   "source": [
    "# def my_range(stop, start, step):\n",
    "#     while start > stop:\n",
    "#         yield start**2 #yield keyword there be a generator\n",
    "#         start -= step\n",
    "# generator_object = my_range(0, 20, 1)\n",
    "# print(next(generator_object))\n",
    "\n",
    "# def squared(stop, start, step = 1):\n",
    "#     while start >= stop:\n",
    "#         yield start ** 2\n",
    "#         start -= step\n",
    "# gen = squared(0, start = 25)\n",
    "\n",
    "# try: print(next(gen))\n",
    "# except: print(\"number has reached 0\")\n",
    "\n",
    "# def my_range(stop, start, step):\n",
    "#     while start >= 0:\n",
    "#         yield start**2\n",
    "#         start -= step\n",
    "# for i in my_range(0,10,1):\n",
    "#     my_generator_value = i\n",
    "#     print(my_generator_value)\n",
    "\n",
    "def squared(stop, start, step=1):\n",
    "    while start >= stop:\n",
    "        yield start ** 2\n",
    "        start -= step\n",
    "gen = squared(0, start = 25)\n",
    "\n",
    "try: print(next(gen))\n",
    "except: print(\"number has reached 0\")\n"
   ]
  },
  {
   "cell_type": "markdown",
   "metadata": {},
   "source": [
    "# Exercises"
   ]
  },
  {
   "cell_type": "markdown",
   "metadata": {},
   "source": [
    "### Exercise #1 <br>\n",
    "<p>Filter out all of the empty strings from the list below</p>\n",
    "\n",
    "`Output: ['Argentina', 'San Diego', 'Boston', 'New York']`"
   ]
  },
  {
   "cell_type": "code",
   "execution_count": 20,
   "metadata": {},
   "outputs": [
    {
     "name": "stdout",
     "output_type": "stream",
     "text": [
      "['Argentina', 'San Diego', 'Boston', 'New York']\n"
     ]
    }
   ],
   "source": [
    "places = [\" \",\"Argentina\", \" \", \"San Diego\",\"\",\"  \",\"\",\"Boston\",\"New York\"]\n",
    "\n",
    "\n",
    "no_empty_strs = list(filter(lambda plc_name: True if (plc_name.isspace() == False and plc_name != '') else False, places))\n",
    "print(no_empty_strs)\n"
   ]
  },
  {
   "cell_type": "markdown",
   "metadata": {},
   "source": [
    "### Exercise #2 <br>\n",
    "<p>Write an anonymous function that sorts this list by the last name...<br><b>Hint: Use the \".sort()\" method and access the key\"</b></p>\n",
    "\n",
    "`Output: ['Victor aNisimov', 'Gary A.J. Bernstein', 'Joel Carter', 'Andrew P. Garfield', 'David hassELHOFF']`"
   ]
  },
  {
   "cell_type": "code",
   "execution_count": 19,
   "metadata": {},
   "outputs": [
    {
     "name": "stdout",
     "output_type": "stream",
     "text": [
      "['Victor Anisimov', 'Gary A.J. Bernstein', 'Joel Carter', 'Andrew P. Garfield', 'David Hasselhoff']\n"
     ]
    }
   ],
   "source": [
    "author = [\"Joel Carter\", \"Victor aNisimov\", \"Andrew P. Garfield\",\"David hassELHOFF\",\"Gary A.J. Bernstein\"]\n",
    "author_title = list(map(lambda name: name.upper(), author))\n",
    "\n",
    "# count from end of string and backwards - to space after first letter of last name\n",
    "name_dict={}\n",
    "\n",
    "for name in author_title:\n",
    "    indx = -1    \n",
    "    for letter in name:\n",
    "        if name[indx] != \" \":\n",
    "            indx -= 1\n",
    "        else:\n",
    "            indx += 1\n",
    "            name_dict[name[indx:]] = name[:-1+indx]\n",
    "            break\n",
    "            \n",
    "key_last_names = list(name_dict.keys())\n",
    "# print(key_last_names)\n",
    "key_last_names.sort()\n",
    "# print(key_last_names)\n",
    "\n",
    "sorted_dict = {frst: name_dict[frst] for frst in key_last_names}\n",
    "# print(sorted_dict)\n",
    "\n",
    "last_names = list(sorted_dict.keys())\n",
    "# print(last_names)\n",
    "last_names_title = list(map(lambda name: name.title(), last_names))\n",
    "first_names=list(sorted_dict.values())\n",
    "\n",
    "\n",
    "full_name = list(map(lambda frst_name, lst_name: frst_name.title() + \" \" + lst_name.title(), first_names, last_names_title))\n",
    "print(full_name)\n",
    "\n",
    "\n",
    "\n",
    "\n",
    "\n",
    "            \n",
    "\n",
    "\n"
   ]
  },
  {
   "cell_type": "markdown",
   "metadata": {},
   "source": [
    "### Exercise #3 <br>\n",
    "<p>Convert the list below from Celsius to Farhenheit, using the map function with a lambda...</p>\n",
    "\n",
    "`Output: [('Nashua', 89.6), ('Boston', 53.6), ('Los Angelos', 111.2), ('Miami', 84.2)]\n",
    "`"
   ]
  },
  {
   "cell_type": "code",
   "execution_count": 18,
   "metadata": {},
   "outputs": [
    {
     "name": "stdout",
     "output_type": "stream",
     "text": [
      "[('Nashua', 89.6), ('Boston', 53.6), ('Los Angelos', 111.2), ('Miami', 84.2)]\n"
     ]
    }
   ],
   "source": [
    "# F = (9/5)*C + 32\n",
    "places = [('Nashua',32),(\"Boston\",12),(\"Los Angelos\",44),(\"Miami\",29)]\n",
    "dict_plce_temp= dict(places)\n",
    "# print(dict_plce_temp)\n",
    "\n",
    "temps_F = list(map(lambda city: (9/5)*dict_plce_temp[city]+32, dict_plce_temp))\n",
    "places_list = list(map(lambda city: city, dict_plce_temp))\n",
    "\n",
    "places_F = [(places_list[i], temps_F[i]) for i in range(0, len(places_list))]\n",
    "\n",
    "print(places_F)\n",
    "\n",
    "# print(places_list)\n",
    "# print(places_F)\n",
    "# print(places_F)\n"
   ]
  },
  {
   "cell_type": "markdown",
   "metadata": {},
   "source": [
    "### Exercise #4 <br>\n",
    "<p>Create a generator function that individually returns each movie genre back from the list.  Use a try and except to print an error message when the StopIteration reaches its limit.</p>\n",
    "\n",
    "\n"
   ]
  },
  {
   "cell_type": "code",
   "execution_count": 10,
   "metadata": {},
   "outputs": [],
   "source": [
    "def my_range(stop, start, step =1):\n",
    "    while start < stop:\n",
    "        yield start #yield keyword there be a generator\n",
    "        start += step\n",
    "    \n",
    "genres = [\"adventure\", \"drama\", \"horror\", \"comedy\", \"action\", \"romance\"]    \n",
    "generator_object = my_range(len(genres), start = 0)\n"
   ]
  },
  {
   "cell_type": "code",
   "execution_count": 17,
   "metadata": {
    "scrolled": true
   },
   "outputs": [
    {
     "name": "stdout",
     "output_type": "stream",
     "text": [
      "Your StopInteration has reached its limit\n"
     ]
    }
   ],
   "source": [
    "genres = [\"adventure\", \"drama\", \"horror\", \"comedy\", \"action\", \"romance\"]\n",
    "\n",
    "try:\n",
    "    print(genres[next(generator_object)])\n",
    "except:\n",
    "    print(\"Your StopInteration has reached its limit\")\n"
   ]
  },
  {
   "cell_type": "code",
   "execution_count": null,
   "metadata": {},
   "outputs": [],
   "source": []
  }
 ],
 "metadata": {
  "kernelspec": {
   "display_name": "Python 3 (ipykernel)",
   "language": "python",
   "name": "python3"
  },
  "language_info": {
   "codemirror_mode": {
    "name": "ipython",
    "version": 3
   },
   "file_extension": ".py",
   "mimetype": "text/x-python",
   "name": "python",
   "nbconvert_exporter": "python",
   "pygments_lexer": "ipython3",
   "version": "3.10.10"
  }
 },
 "nbformat": 4,
 "nbformat_minor": 2
}
